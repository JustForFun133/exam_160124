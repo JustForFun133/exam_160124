{
  "nbformat": 4,
  "nbformat_minor": 0,
  "metadata": {
    "colab": {
      "provenance": [],
      "authorship_tag": "ABX9TyMYGy7KqxfUBxFB5j025aRo",
      "include_colab_link": true
    },
    "kernelspec": {
      "name": "python3",
      "display_name": "Python 3"
    },
    "language_info": {
      "name": "python"
    }
  },
  "cells": [
    {
      "cell_type": "markdown",
      "metadata": {
        "id": "view-in-github",
        "colab_type": "text"
      },
      "source": [
        "<a href=\"https://colab.research.google.com/github/JustForFun133/exam_160124/blob/main/Solve_14.ipynb\" target=\"_parent\"><img src=\"https://colab.research.google.com/assets/colab-badge.svg\" alt=\"Open In Colab\"/></a>"
      ]
    },
    {
      "cell_type": "code",
      "execution_count": null,
      "metadata": {
        "id": "V0_4rSnpInpS"
      },
      "outputs": [],
      "source": [
        "import numpy as np\n",
        "\n",
        "n = int(input())\n",
        "A = np.array([float(input()) for i in range(n * n)]).reshape(n, n) #создание матрицы\n",
        "print(float(sum(np.linalg.eig(A)[0])))#решение задачи с помощью NumPy"
      ]
    }
  ]
}